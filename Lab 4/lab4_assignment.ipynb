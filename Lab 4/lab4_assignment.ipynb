{
 "cells": [
  {
   "cell_type": "code",
   "execution_count": 1,
   "metadata": {},
   "outputs": [
    {
     "name": "stdout",
     "output_type": "stream",
     "text": [
      "The smallest element is: 1\n"
     ]
    }
   ],
   "source": [
    "def find_smallest_element(arr):\n",
    "    if not arr:  \n",
    "        return None\n",
    "    \n",
    "    smallest = arr[0]  \n",
    "    for num in arr:\n",
    "        if num < smallest:\n",
    "            smallest = num  \n",
    "    return smallest\n",
    "\n",
    "# Example usage\n",
    "numbers = [3, 1, 4, 1, 5, 9, 2, 6, 5, 3, 5]\n",
    "smallest = find_smallest_element(numbers)\n",
    "print(f\"The smallest element is: {smallest}\")"
   ]
  },
  {
   "cell_type": "code",
   "execution_count": 2,
   "metadata": {},
   "outputs": [
    {
     "name": "stdout",
     "output_type": "stream",
     "text": [
      "Original arr:  [25, 12, 56, 34, 11, 99, 104, 43]\n",
      "Sorted array:  [11, 12, 25, 34, 43, 56, 99, 104]\n"
     ]
    }
   ],
   "source": [
    "def bubble_sort(arr):\n",
    "    n=len(arr)\n",
    "    for i in range(n):\n",
    "        for j in range(0,n-i-1):\n",
    "            if arr[j]>arr[j+1]:\n",
    "                arr[j], arr[j+1] = arr[j+1], arr[j]\n",
    "                \n",
    "numbers=[25,12,56,34,11,99,104,43]\n",
    "print(\"Original arr: \",numbers)\n",
    "bubble_sort(numbers)\n",
    "print(\"Sorted array: \",numbers)"
   ]
  },
  {
   "cell_type": "code",
   "execution_count": 8,
   "metadata": {},
   "outputs": [
    {
     "name": "stdout",
     "output_type": "stream",
     "text": [
      "String: '({[()]})' is valid: True\n"
     ]
    }
   ],
   "source": [
    "class ParenthesesValidator:\n",
    "    def __init__(self, string):\n",
    "        self.string = string\n",
    "\n",
    "    def is_valid(self):\n",
    "        matching_brackets = {')': '(', '}': '{', ']': '['}\n",
    "        stack = []\n",
    "        for char in self.string:\n",
    "            if char in matching_brackets.values():  \n",
    "                stack.append(char)\n",
    "            elif char in matching_brackets.keys(): \n",
    "                if not stack or stack[-1] != matching_brackets[char]:\n",
    "                    return False \n",
    "                stack.pop() \n",
    "        return len(stack) == 0  \n",
    "\n",
    "test_string = \"({[()]})\"\n",
    "validator = ParenthesesValidator(test_string)\n",
    "is_valid = validator.is_valid()\n",
    "print(f\"String: '{test_string}' is valid: {is_valid}\")"
   ]
  },
  {
   "cell_type": "code",
   "execution_count": 3,
   "metadata": {},
   "outputs": [
    {
     "name": "stdout",
     "output_type": "stream",
     "text": [
      "Matrix A:\n",
      "[1, 2, 3]\n",
      "[4, 5, 6]\n",
      "\n",
      "Matrix B:\n",
      "[7, 8]\n",
      "[9, 10]\n",
      "[11, 12]\n",
      "\n",
      "Result of A * B:\n",
      "[58, 64]\n",
      "[139, 154]\n"
     ]
    }
   ],
   "source": [
    "def matrix_mul(A,B):\n",
    "    m=len(A)\n",
    "    n=len(A[0])\n",
    "    p=len(B[0])\n",
    "    C=[[0 for _ in range(p)] for _ in range(m)]\n",
    "    for i in range(m):\n",
    "        for j in range(p):\n",
    "            for k in range(n):\n",
    "                C[i][j]+= A[i][k]*B[k][j]\n",
    "    return C\n",
    "\n",
    "A = [[1, 2, 3],\n",
    "     [4, 5, 6]]\n",
    "\n",
    "B = [[7, 8],\n",
    "     [9, 10],\n",
    "     [11, 12]]\n",
    "\n",
    "result = matrix_mul(A, B)\n",
    "\n",
    "print(\"Matrix A:\")\n",
    "for row in A:\n",
    "    print(row)\n",
    "\n",
    "print(\"\\nMatrix B:\")\n",
    "for row in B:\n",
    "    print(row)\n",
    "\n",
    "print(\"\\nResult of A * B:\")\n",
    "for row in result:\n",
    "    print(row)"
   ]
  },
  {
   "cell_type": "code",
   "execution_count": 4,
   "metadata": {},
   "outputs": [
    {
     "name": "stdout",
     "output_type": "stream",
     "text": [
      "Ketan am I World! Hello\n"
     ]
    }
   ],
   "source": [
    "class string_reverse:\n",
    "    def __init__(self, input_string):\n",
    "        self.input_string=input_string\n",
    "    def reverse_words(self):\n",
    "        words=self.input_string.split()\n",
    "        reversed=words[::-1]\n",
    "        return ' '.join(reversed)\n",
    "\n",
    "obj=string_reverse(\"Hello World! I am Ketan\")\n",
    "print(obj.reverse_words())"
   ]
  },
  {
   "cell_type": "code",
   "execution_count": 5,
   "metadata": {},
   "outputs": [
    {
     "name": "stdout",
     "output_type": "stream",
     "text": [
      "area is:  314.1592653589793\n",
      "perimeter is:  62.83185307179586\n"
     ]
    }
   ],
   "source": [
    "import math\n",
    "class circle:\n",
    "    def __init__(self, radius):\n",
    "        self.radius=radius\n",
    "    def area(self):\n",
    "        return math.pi*(self.radius**2)\n",
    "    def perimeter(self):\n",
    "        return 2*math.pi*self.radius\n",
    "obj=circle(10)\n",
    "print(\"area is: \",obj.area())\n",
    "print(\"perimeter is: \",obj.perimeter())"
   ]
  }
 ],
 "metadata": {
  "kernelspec": {
   "display_name": "Python 3",
   "language": "python",
   "name": "python3"
  },
  "language_info": {
   "codemirror_mode": {
    "name": "ipython",
    "version": 3
   },
   "file_extension": ".py",
   "mimetype": "text/x-python",
   "name": "python",
   "nbconvert_exporter": "python",
   "pygments_lexer": "ipython3",
   "version": "3.12.1"
  }
 },
 "nbformat": 4,
 "nbformat_minor": 2
}
