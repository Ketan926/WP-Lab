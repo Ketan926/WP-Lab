{
 "cells": [
  {
   "cell_type": "code",
   "execution_count": 5,
   "metadata": {},
   "outputs": [
    {
     "name": "stdout",
     "output_type": "stream",
     "text": [
      "I\n",
      "III\n",
      "VIII\n",
      "XXV\n",
      "LXXX\n"
     ]
    }
   ],
   "source": [
    "class roman:\n",
    "    def int_to_roman(self,num):\n",
    "        val=[1000,900,500,400,100,90,50,40,10,9,5,4,1]\n",
    "        syb=[\"M\",\"CM\",\"D\",\"CD\",\"C\",\"XC\",\"L\",\"XL\",\"X\",\"IX\",\"V\",\"IV\",\"I\"]\n",
    "        roman_num=\"\"\n",
    "        i=0\n",
    "        while num>0:\n",
    "            for _ in range(num//val[i]):\n",
    "                roman_num+=syb[i]\n",
    "                num-=val[i]\n",
    "            i+=1\n",
    "        return roman_num\n",
    "\n",
    "print(roman().int_to_roman(1))\n",
    "print(roman().int_to_roman(3))\n",
    "print(roman().int_to_roman(8))\n",
    "print(roman().int_to_roman(25))\n",
    "print(roman().int_to_roman(80))"
   ]
  },
  {
   "cell_type": "code",
   "execution_count": 15,
   "metadata": {},
   "outputs": [
    {
     "name": "stdout",
     "output_type": "stream",
     "text": [
      "Hello World!\n",
      "!dlroW olleH\n"
     ]
    }
   ],
   "source": [
    "f1=open(\"file1.txt\",\"rt\")\n",
    "f2=open(\"file2.txt\",\"wt\")\n",
    "print(f1.readline())\n",
    "with open(\"file1.txt\",\"rt\") as my_file:\n",
    "    data=my_file.read()\n",
    "rev_data=data[::-1]\n",
    "f2.write(rev_data)\n",
    "f2.close()\n",
    "f2=open(\"file2.txt\",\"rt\")\n",
    "print(f2.readline())"
   ]
  },
  {
   "cell_type": "code",
   "execution_count": 19,
   "metadata": {},
   "outputs": [
    {
     "name": "stdout",
     "output_type": "stream",
     "text": [
      "The number 40 is at the index 3\n"
     ]
    }
   ],
   "source": [
    "def binary_search(arr,low,high,x):\n",
    "    if(high>=low):\n",
    "        mid=(low+high)//2\n",
    "        if(arr[mid]==x):\n",
    "            return mid\n",
    "        elif(arr[mid]>x):\n",
    "            return binary_search(arr,low,mid-1,x)\n",
    "        else:\n",
    "            return binary_search(arr,mid+1,high,x)\n",
    "    else:\n",
    "        return -1\n",
    "\n",
    "arr=[10,20,30,40,50,60]\n",
    "x=40\n",
    "res=binary_search(arr,0,len(arr)-1,x)\n",
    "if(res!=-1):\n",
    "    print(f\"The number {x} is at the index {res}\")\n",
    "else:\n",
    "    print(f\"The number {x} is not there in the array\")"
   ]
  },
  {
   "cell_type": "code",
   "execution_count": 22,
   "metadata": {},
   "outputs": [
    {
     "name": "stdout",
     "output_type": "stream",
     "text": [
      "am\n",
      "goud\n",
      "hello\n",
      "i\n",
      "ketan\n"
     ]
    }
   ],
   "source": [
    "my_str=str(input(\"Enter your string:\"))\n",
    "words=[word.lower() for word in my_str.split()]\n",
    "words.sort()\n",
    "for word in words:\n",
    "    print(word)\n"
   ]
  },
  {
   "cell_type": "code",
   "execution_count": 25,
   "metadata": {},
   "outputs": [
    {
     "name": "stdout",
     "output_type": "stream",
     "text": [
      "Hello \n"
     ]
    }
   ],
   "source": [
    "class strings:\n",
    "    def get_string(self):\n",
    "        self.my_str=str(input(\"Enter your string:\"))\n",
    "    def print_string(self):\n",
    "        print(self.my_str)\n",
    "    \n",
    "st=strings()\n",
    "st.get_string()\n",
    "st.print_string()\n",
    "    "
   ]
  },
  {
   "cell_type": "code",
   "execution_count": 29,
   "metadata": {},
   "outputs": [
    {
     "name": "stdout",
     "output_type": "stream",
     "text": [
      "25\n",
      "10000\n"
     ]
    }
   ],
   "source": [
    "class power_func:\n",
    "    def __init__(self,x,n):\n",
    "        self.x=x\n",
    "        self.n=n\n",
    "    def pow(self):\n",
    "        return self.x**self.n\n",
    "\n",
    "p=power_func(5,2)\n",
    "print(p.pow())\n",
    "p=power_func(10,4)\n",
    "print(p.pow())"
   ]
  },
  {
   "cell_type": "code",
   "execution_count": 31,
   "metadata": {},
   "outputs": [
    {
     "name": "stdout",
     "output_type": "stream",
     "text": [
      "Pair found at (1, 2)\n"
     ]
    }
   ],
   "source": [
    "class pair_sum:\n",
    "    def __init__(self, numbers, target):\n",
    "        self.numbers=numbers\n",
    "        self.target=target\n",
    "    def find_pairs(self):\n",
    "        visited={}\n",
    "        pair_indices={}\n",
    "        for i,num in enumerate(self.numbers):\n",
    "            complement=self.target-num\n",
    "            if(complement in visited):\n",
    "                return (visited[complement],i)\n",
    "            visited[num]=i\n",
    "        return None\n",
    "\n",
    "numbers = [10,20,30,40,50,60,70,80]\n",
    "target=50\n",
    "p=pair_sum(numbers,target)\n",
    "res=p.find_pairs()\n",
    "if(res):\n",
    "    print(f\"Pair found at {res}\")\n",
    "else:\n",
    "    print(\"No pair found\")"
   ]
  },
  {
   "cell_type": "code",
   "execution_count": null,
   "metadata": {},
   "outputs": [],
   "source": []
  }
 ],
 "metadata": {
  "kernelspec": {
   "display_name": "Python 3",
   "language": "python",
   "name": "python3"
  },
  "language_info": {
   "codemirror_mode": {
    "name": "ipython",
    "version": 3
   },
   "file_extension": ".py",
   "mimetype": "text/x-python",
   "name": "python",
   "nbconvert_exporter": "python",
   "pygments_lexer": "ipython3",
   "version": "3.12.3"
  }
 },
 "nbformat": 4,
 "nbformat_minor": 2
}
